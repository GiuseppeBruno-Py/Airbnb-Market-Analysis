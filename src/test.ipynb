{
 "cells": [
  {
   "cell_type": "code",
   "execution_count": 1,
   "metadata": {},
   "outputs": [
    {
     "data": {
      "text/plain": [
       "True"
      ]
     },
     "execution_count": 1,
     "metadata": {},
     "output_type": "execute_result"
    }
   ],
   "source": [
    "import os\n",
    "import sys\n",
    "from pyspark.sql import SparkSession, functions as F\n",
    "from pyspark.sql.functions import col, regexp_replace, udf\n",
    "from pyspark.sql.types import StringType\n",
    "import googlemaps\n",
    "from dotenv import load_dotenv\n",
    "\n",
    "load_dotenv()"
   ]
  },
  {
   "cell_type": "code",
   "execution_count": 2,
   "metadata": {},
   "outputs": [
    {
     "name": "stderr",
     "output_type": "stream",
     "text": [
      "Warning: Ignoring non-Spark config property: fs.gs.auth.service.account.enable\n",
      "Warning: Ignoring non-Spark config property: google.cloud.auth.service.account.json.keyfile\n",
      "Warning: Ignoring non-Spark config property: fs.AbstractFileSystem.gs.impl\n",
      "Warning: Ignoring non-Spark config property: fs.gs.impl\n",
      "24/04/09 13:57:12 WARN NativeCodeLoader: Unable to load native-hadoop library for your platform... using builtin-java classes where applicable\n",
      "Setting default log level to \"WARN\".\n",
      "To adjust logging level use sc.setLogLevel(newLevel). For SparkR, use setLogLevel(newLevel).\n",
      "24/04/09 13:57:13 WARN Utils: Service 'SparkUI' could not bind on port 4040. Attempting port 4041.\n"
     ]
    }
   ],
   "source": [
    "spark = SparkSession.builder \\\n",
    "    .appName(\"GCSFilesRead\") \\\n",
    "    .config(\"spark.jars\", \"/home/giuseppe/airbnb-project/gcs-connector-hadoop3-latest.jar\") \\\n",
    "    .config('fs.gs.impl', 'com.google.cloud.hadoop.fs.gcs.GoogleHadoopFileSystem') \\\n",
    "    .config('fs.gs.auth.service.account.enable', 'true') \\\n",
    "    .config('fs.AbstractFileSystem.gs.impl', 'com.google.cloud.hadoop.fs.gcs.GoogleHadoopFS') \\\n",
    "    .config('google.cloud.auth.service.account.json.keyfile', '/home/giuseppe/airbnb-project/my-creds.json') \\\n",
    "    .getOrCreate()"
   ]
  },
  {
   "cell_type": "code",
   "execution_count": 4,
   "metadata": {},
   "outputs": [],
   "source": [
    "# Leitura do arquivo CSV do GCS\n",
    "gcs_path = 'gs://airbnb-zoomcamp-giuseppe-7/accurated/geolocation_accurated.csv'\n",
    "df = spark.read.csv(gcs_path, inferSchema=True, header=True, sep=';')"
   ]
  },
  {
   "cell_type": "code",
   "execution_count": 5,
   "metadata": {},
   "outputs": [
    {
     "data": {
      "text/plain": [
       "1000"
      ]
     },
     "execution_count": 5,
     "metadata": {},
     "output_type": "execute_result"
    }
   ],
   "source": [
    "df.count()"
   ]
  },
  {
   "cell_type": "code",
   "execution_count": 6,
   "metadata": {},
   "outputs": [
    {
     "name": "stderr",
     "output_type": "stream",
     "text": [
      "[Stage 15:>                                                         (0 + 1) / 1]\r"
     ]
    },
    {
     "name": "stdout",
     "output_type": "stream",
     "text": [
      "+-----------+-------------------+---------+-----------+--------------------+\n",
      "| unified_id|              month| latitude|  longitude|              street|\n",
      "+-----------+-------------------+---------+-----------+--------------------+\n",
      "|AIR10052559|2022-12-01 00:00:00| 34.23948| -116.87991|Heavenly Valley R...|\n",
      "|AIR10178668|2022-12-01 00:00:00| 34.25095| -116.94139|Point Rd, Big Bea...|\n",
      "|AIR10211700|2022-12-01 00:00:00| 34.24516| -116.87618|Avalon Rd, Big Be...|\n",
      "|AIR10344705|2022-12-01 00:00:00|  34.2675| -116.86089|Bear Mountain Rd,...|\n",
      "|AIR10424683|2022-12-01 00:00:00| 34.25341| -116.88025|Starvation Flats ...|\n",
      "|AIR10471190|2022-12-01 00:00:00| 34.23844| -116.82383|Spruce Ln, Sugarl...|\n",
      "|AIR10551482|2022-12-01 00:00:00|  34.2355|  -116.8483|Klamath Rd, Big B...|\n",
      "|AIR11209785|2022-12-01 00:00:00| 34.23943| -116.85551|Minton Ave, Big B...|\n",
      "|AIR11458668|2022-12-01 00:00:00| 34.24263| -116.92486|Wanita Ln, Big Be...|\n",
      "|AIR11529774|2022-12-01 00:00:00| 34.08019| -116.37654|Carmelita Way, Yu...|\n",
      "|AIR11623857|2022-12-01 00:00:00| 34.25264|  -116.8808|Starvation Flats ...|\n",
      "|AIR11654882|2022-12-01 00:00:00|  34.2422|  -116.8618|Villa Grove Ave, ...|\n",
      "|AIR11692683|2022-12-01 00:00:00| 34.27166| -116.85132|Mullins Dr, Big B...|\n",
      "|AIR11735648|2022-12-01 00:00:00| 34.23979| -116.88697|Evergreen Dr, Big...|\n",
      "|AIR11785147|2022-12-01 00:00:00|  34.2521| -116.87999|Starvation Flats ...|\n",
      "|AIR11799363|2022-12-01 00:00:00| 34.23996| -116.92826|Big Bear Blvd, Bi...|\n",
      "|AIR11921717|2022-12-01 00:00:00| 34.24654| -116.89829|Park Ave, Big Bea...|\n",
      "|  AIR119838|2022-12-01 00:00:00| 34.12838| -116.31354|Mountain View Cir...|\n",
      "|AIR12246386|2022-12-01 00:00:00|34.237736|-116.862297|Silver Tip Dr, Bi...|\n",
      "|AIR12325663|2022-12-01 00:00:00| 34.11093|  -116.3238|Sandalwood Trail,...|\n",
      "+-----------+-------------------+---------+-----------+--------------------+\n",
      "only showing top 20 rows\n",
      "\n"
     ]
    },
    {
     "name": "stderr",
     "output_type": "stream",
     "text": [
      "                                                                                \r"
     ]
    }
   ],
   "source": [
    "from pyspark.sql.functions import lit\n",
    "\n",
    "# Leitura do arquivo CSV do GCS\n",
    "gcs_path = 'gs://airbnb-zoomcamp-giuseppe-7/geolocation.csv'\n",
    "df = spark.read.csv(gcs_path, inferSchema=True, header=True, sep=';').limit(1000).repartition(1)  # Reduzindo para uma partição\n",
    "\n",
    "# UDF permanece a mesma\n",
    "def get_street_name(latitude, longitude):\n",
    "    gmaps = googlemaps.Client(key=os.getenv('GOOGLE_MAPS_API_KEY'))\n",
    "    reverse_geocode_result = gmaps.reverse_geocode((latitude, longitude))\n",
    "    return reverse_geocode_result[0]['formatted_address'] if reverse_geocode_result else None\n",
    "\n",
    "get_street_name_udf = udf(get_street_name, StringType())\n",
    "\n",
    "# Transformação dos dados adaptada\n",
    "def transform_data(df):\n",
    "    df_geolocation = df.withColumn(\"latitude\", regexp_replace(col(\"latitude\"), \",\", \".\")) \\\n",
    "                       .withColumn(\"longitude\", regexp_replace(col(\"longitude\"), \",\", \".\"))\n",
    "\n",
    "    # Caching do DataFrame para evitar múltiplas ações de trigger\n",
    "    df_geolocation.cache()\n",
    "\n",
    "    df_geolocation = df_geolocation.withColumn(\"street\", get_street_name_udf(col(\"latitude\"), col(\"longitude\")))\n",
    "    df_geolocation = df_geolocation.withColumn('street', regexp_replace('street', r'^\\d+\\s+', ''))\n",
    "\n",
    "    # Supondo que street_name é a coluna original e queremos removê-la\n",
    "    df_geolocation = df_geolocation.drop(\"street_name\")\n",
    "    \n",
    "    return df_geolocation\n",
    "\n",
    "# Transformação e aplicação do processo\n",
    "df_transformed = transform_data(df)\n",
    "\n",
    "# Assegurando que df_transformed é avaliado uma única vez\n",
    "df_transformed.show()\n"
   ]
  },
  {
   "cell_type": "code",
   "execution_count": 7,
   "metadata": {},
   "outputs": [
    {
     "name": "stderr",
     "output_type": "stream",
     "text": [
      "                                                                                \r"
     ]
    }
   ],
   "source": [
    "import os\n",
    "import glob\n",
    "\n",
    "gcs_path = 'gs://airbnb-zoomcamp-giuseppe-7/geolocation.csv'\n",
    "local_dir_path = 'transformed_geolocation'\n",
    "local_file_final = 'transformed_geolocation.csv'\n",
    "\n",
    "# Usar coalesce(1) para salvar o DataFrame como um único arquivo CSV em um diretório\n",
    "df_transformed.coalesce(1).write.mode('overwrite').option('header', 'true').csv(local_dir_path)\n",
    "\n",
    "# Encontra o arquivo dentro do diretório e o renomeia/move para a localização desejada\n",
    "part_files = glob.glob(f\"{local_dir_path}/part-*.csv\")\n",
    "if part_files:\n",
    "    # Deve haver apenas um arquivo part-*.csv após usar coalesce(1)\n",
    "    # O destino precisa incluir o caminho, não apenas o novo nome do arquivo\n",
    "    os.rename(part_files[0], os.path.join(os.path.dirname(part_files[0]), local_file_final))\n",
    "\n",
    "# Agora pode-se remover o diretório\n",
    "try:\n",
    "    # Remove arquivos residuais do diretório temporário primeiro\n",
    "    for f in os.listdir(local_dir_path):\n",
    "        if f != local_file_final:\n",
    "            os.remove(os.path.join(local_dir_path, f))\n",
    "    # Finalmente, se o diretório está vazio, removê-lo, ou deixá-lo se contém o arquivo renomeado\n",
    "except OSError as e:\n",
    "    print(\"Error: %s : %s\" % (local_dir_path, e.strerror))\n"
   ]
  },
  {
   "cell_type": "code",
   "execution_count": 10,
   "metadata": {},
   "outputs": [
    {
     "name": "stdout",
     "output_type": "stream",
     "text": [
      "File transformed_geolocation/transformed_geolocation.csv uploaded to accurated/geolocation_accurated.csv.\n"
     ]
    }
   ],
   "source": [
    "from google.cloud import storage\n",
    "\n",
    "# Definir as variáveis necessárias\n",
    "bucket_name = 'airbnb-zoomcamp-giuseppe-7'\n",
    "source_file_name = 'transformed_geolocation/transformed_geolocation.csv'\n",
    "destination_blob_name = 'accurated/geolocation_accurated.csv'\n",
    "\n",
    "# Criar um cliente de armazenamento\n",
    "storage_client = storage.Client()\n",
    "\n",
    "# Obter o bucket\n",
    "bucket = storage_client.bucket(bucket_name)\n",
    "\n",
    "# Criar um novo blob e fazer o upload do arquivo para o GCS\n",
    "blob = bucket.blob(destination_blob_name)\n",
    "blob.upload_from_filename(source_file_name)\n",
    "\n",
    "print(f\"File {source_file_name} uploaded to {destination_blob_name}.\")\n"
   ]
  }
 ],
 "metadata": {
  "kernelspec": {
   "display_name": "venv",
   "language": "python",
   "name": "python3"
  },
  "language_info": {
   "codemirror_mode": {
    "name": "ipython",
    "version": 3
   },
   "file_extension": ".py",
   "mimetype": "text/x-python",
   "name": "python",
   "nbconvert_exporter": "python",
   "pygments_lexer": "ipython3",
   "version": "3.11.2"
  }
 },
 "nbformat": 4,
 "nbformat_minor": 2
}
