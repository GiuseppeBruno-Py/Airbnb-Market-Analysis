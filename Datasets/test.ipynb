{
 "cells": [
  {
   "cell_type": "code",
   "execution_count": 1,
   "metadata": {},
   "outputs": [],
   "source": [
    "import os\n",
    "import glob\n",
    "import googlemaps\n",
    "from pyspark.sql import SparkSession, functions as F\n",
    "from pyspark.sql.functions import col, regexp_replace, udf\n",
    "from pyspark.sql.types import StringType\n",
    "from google.cloud import storage\n",
    "from dotenv import load_dotenv"
   ]
  },
  {
   "cell_type": "code",
   "execution_count": 2,
   "metadata": {},
   "outputs": [
    {
     "name": "stderr",
     "output_type": "stream",
     "text": [
      "Warning: Ignoring non-Spark config property: fs.gs.auth.service.account.enable\n",
      "Warning: Ignoring non-Spark config property: google.cloud.auth.service.account.json.keyfile\n",
      "Warning: Ignoring non-Spark config property: fs.AbstractFileSystem.gs.impl\n",
      "Warning: Ignoring non-Spark config property: fs.gs.impl\n",
      "24/04/09 11:23:00 WARN NativeCodeLoader: Unable to load native-hadoop library for your platform... using builtin-java classes where applicable\n",
      "Setting default log level to \"WARN\".\n",
      "To adjust logging level use sc.setLogLevel(newLevel). For SparkR, use setLogLevel(newLevel).\n"
     ]
    }
   ],
   "source": [
    "    spark = SparkSession.builder \\\n",
    "        .appName(\"GCSFilesRead\") \\\n",
    "        .config(\"spark.jars\", \"/home/giuseppe/airbnb-project/gcs-connector-hadoop3-latest.jar\") \\\n",
    "        .config('fs.gs.impl', 'com.google.cloud.hadoop.fs.gcs.GoogleHadoopFileSystem') \\\n",
    "        .config('fs.gs.auth.service.account.enable', 'true') \\\n",
    "        .config('fs.AbstractFileSystem.gs.impl', 'com.google.cloud.hadoop.fs.gcs.GoogleHadoopFS') \\\n",
    "        .config('google.cloud.auth.service.account.json.keyfile', '/home/giuseppe/airbnb-project/my-creds.json') \\\n",
    "        .getOrCreate()"
   ]
  },
  {
   "cell_type": "code",
   "execution_count": 4,
   "metadata": {},
   "outputs": [
    {
     "name": "stdout",
     "output_type": "stream",
     "text": [
      "root\n",
      " |-- unified_id: string (nullable = true)\n",
      " |-- month: string (nullable = true)\n",
      " |-- hot_tub: string (nullable = true)\n",
      " |-- pool: string (nullable = true)\n",
      "\n"
     ]
    }
   ],
   "source": [
    "df = spark.read.csv('amenities.csv', header=True, sep=\";\")\n",
    "df.printSchema()"
   ]
  }
 ],
 "metadata": {
  "kernelspec": {
   "display_name": "venv",
   "language": "python",
   "name": "python3"
  },
  "language_info": {
   "codemirror_mode": {
    "name": "ipython",
    "version": 3
   },
   "file_extension": ".py",
   "mimetype": "text/x-python",
   "name": "python",
   "nbconvert_exporter": "python",
   "pygments_lexer": "ipython3",
   "version": "3.11.2"
  }
 },
 "nbformat": 4,
 "nbformat_minor": 2
}
